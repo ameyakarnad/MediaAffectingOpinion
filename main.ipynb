{
 "cells": [
  {
   "cell_type": "markdown",
   "metadata": {},
   "source": [
    "# How do news channels affect your opinions?\n",
    "\n",
    "This is a short case study on whether the content and sentiment of the news channels on different topics actually affect the way that you think\n"
   ]
  },
  {
   "cell_type": "code",
   "execution_count": 1,
   "metadata": {},
   "outputs": [],
   "source": [
    "import csv\n",
    "import pandas as pd\n",
    "import nltk\n",
    "from textblob import TextBlob "
   ]
  },
  {
   "cell_type": "code",
   "execution_count": 4,
   "metadata": {},
   "outputs": [
    {
     "name": "stdout",
     "output_type": "stream",
     "text": [
      "(142570, 10)\n"
     ]
    },
    {
     "data": {
      "text/html": [
       "<div>\n",
       "<style scoped>\n",
       "    .dataframe tbody tr th:only-of-type {\n",
       "        vertical-align: middle;\n",
       "    }\n",
       "\n",
       "    .dataframe tbody tr th {\n",
       "        vertical-align: top;\n",
       "    }\n",
       "\n",
       "    .dataframe thead th {\n",
       "        text-align: right;\n",
       "    }\n",
       "</style>\n",
       "<table border=\"1\" class=\"dataframe\">\n",
       "  <thead>\n",
       "    <tr style=\"text-align: right;\">\n",
       "      <th></th>\n",
       "      <th>Unnamed: 0</th>\n",
       "      <th>id</th>\n",
       "      <th>title</th>\n",
       "      <th>publication</th>\n",
       "      <th>author</th>\n",
       "      <th>date</th>\n",
       "      <th>year</th>\n",
       "      <th>month</th>\n",
       "      <th>url</th>\n",
       "      <th>content</th>\n",
       "    </tr>\n",
       "  </thead>\n",
       "  <tbody>\n",
       "    <tr>\n",
       "      <th>0</th>\n",
       "      <td>0</td>\n",
       "      <td>17283</td>\n",
       "      <td>House Republicans Fret About Winning Their Hea...</td>\n",
       "      <td>New York Times</td>\n",
       "      <td>Carl Hulse</td>\n",
       "      <td>2016-12-31</td>\n",
       "      <td>2016.0</td>\n",
       "      <td>12.0</td>\n",
       "      <td>NaN</td>\n",
       "      <td>WASHINGTON  —   Congressional Republicans have...</td>\n",
       "    </tr>\n",
       "    <tr>\n",
       "      <th>1</th>\n",
       "      <td>1</td>\n",
       "      <td>17284</td>\n",
       "      <td>Rift Between Officers and Residents as Killing...</td>\n",
       "      <td>New York Times</td>\n",
       "      <td>Benjamin Mueller and Al Baker</td>\n",
       "      <td>2017-06-19</td>\n",
       "      <td>2017.0</td>\n",
       "      <td>6.0</td>\n",
       "      <td>NaN</td>\n",
       "      <td>After the bullet shells get counted, the blood...</td>\n",
       "    </tr>\n",
       "    <tr>\n",
       "      <th>2</th>\n",
       "      <td>2</td>\n",
       "      <td>17285</td>\n",
       "      <td>Tyrus Wong, ‘Bambi’ Artist Thwarted by Racial ...</td>\n",
       "      <td>New York Times</td>\n",
       "      <td>Margalit Fox</td>\n",
       "      <td>2017-01-06</td>\n",
       "      <td>2017.0</td>\n",
       "      <td>1.0</td>\n",
       "      <td>NaN</td>\n",
       "      <td>When Walt Disney’s “Bambi” opened in 1942, cri...</td>\n",
       "    </tr>\n",
       "    <tr>\n",
       "      <th>3</th>\n",
       "      <td>3</td>\n",
       "      <td>17286</td>\n",
       "      <td>Among Deaths in 2016, a Heavy Toll in Pop Musi...</td>\n",
       "      <td>New York Times</td>\n",
       "      <td>William McDonald</td>\n",
       "      <td>2017-04-10</td>\n",
       "      <td>2017.0</td>\n",
       "      <td>4.0</td>\n",
       "      <td>NaN</td>\n",
       "      <td>Death may be the great equalizer, but it isn’t...</td>\n",
       "    </tr>\n",
       "    <tr>\n",
       "      <th>4</th>\n",
       "      <td>4</td>\n",
       "      <td>17287</td>\n",
       "      <td>Kim Jong-un Says North Korea Is Preparing to T...</td>\n",
       "      <td>New York Times</td>\n",
       "      <td>Choe Sang-Hun</td>\n",
       "      <td>2017-01-02</td>\n",
       "      <td>2017.0</td>\n",
       "      <td>1.0</td>\n",
       "      <td>NaN</td>\n",
       "      <td>SEOUL, South Korea  —   North Korea’s leader, ...</td>\n",
       "    </tr>\n",
       "  </tbody>\n",
       "</table>\n",
       "</div>"
      ],
      "text/plain": [
       "   Unnamed: 0     id                                              title  \\\n",
       "0           0  17283  House Republicans Fret About Winning Their Hea...   \n",
       "1           1  17284  Rift Between Officers and Residents as Killing...   \n",
       "2           2  17285  Tyrus Wong, ‘Bambi’ Artist Thwarted by Racial ...   \n",
       "3           3  17286  Among Deaths in 2016, a Heavy Toll in Pop Musi...   \n",
       "4           4  17287  Kim Jong-un Says North Korea Is Preparing to T...   \n",
       "\n",
       "      publication                         author        date    year  month  \\\n",
       "0  New York Times                     Carl Hulse  2016-12-31  2016.0   12.0   \n",
       "1  New York Times  Benjamin Mueller and Al Baker  2017-06-19  2017.0    6.0   \n",
       "2  New York Times                   Margalit Fox  2017-01-06  2017.0    1.0   \n",
       "3  New York Times               William McDonald  2017-04-10  2017.0    4.0   \n",
       "4  New York Times                  Choe Sang-Hun  2017-01-02  2017.0    1.0   \n",
       "\n",
       "   url                                            content  \n",
       "0  NaN  WASHINGTON  —   Congressional Republicans have...  \n",
       "1  NaN  After the bullet shells get counted, the blood...  \n",
       "2  NaN  When Walt Disney’s “Bambi” opened in 1942, cri...  \n",
       "3  NaN  Death may be the great equalizer, but it isn’t...  \n",
       "4  NaN  SEOUL, South Korea  —   North Korea’s leader, ...  "
      ]
     },
     "execution_count": 4,
     "metadata": {},
     "output_type": "execute_result"
    }
   ],
   "source": [
    "# Joining the three acticles datasets\n",
    "article1 = pd.read_csv(\"../all-the-news/articles1.csv\")\n",
    "article2 = pd.read_csv(\"../all-the-news/articles2.csv\")\n",
    "article3 = pd.read_csv(\"../all-the-news/articles3.csv\")\n",
    "article = article1.append(article2)\n",
    "article = article.append(article3)\n",
    "print(article.shape)\n",
    "article.head()"
   ]
  },
  {
   "cell_type": "code",
   "execution_count": 5,
   "metadata": {
    "scrolled": true
   },
   "outputs": [
    {
     "name": "stdout",
     "output_type": "stream",
     "text": [
      "(3455, 152)\n"
     ]
    },
    {
     "data": {
      "text/html": [
       "<div>\n",
       "<style scoped>\n",
       "    .dataframe tbody tr th:only-of-type {\n",
       "        vertical-align: middle;\n",
       "    }\n",
       "\n",
       "    .dataframe tbody tr th {\n",
       "        vertical-align: top;\n",
       "    }\n",
       "\n",
       "    .dataframe thead th {\n",
       "        text-align: right;\n",
       "    }\n",
       "</style>\n",
       "<table border=\"1\" class=\"dataframe\">\n",
       "  <thead>\n",
       "    <tr style=\"text-align: right;\">\n",
       "      <th></th>\n",
       "      <th>Unnamed: 0</th>\n",
       "      <th>CaseId</th>\n",
       "      <th>WEIGHT</th>\n",
       "      <th>SAMPLE</th>\n",
       "      <th>Q1</th>\n",
       "      <th>Q2</th>\n",
       "      <th>Q3A</th>\n",
       "      <th>Q3B</th>\n",
       "      <th>Q3C</th>\n",
       "      <th>Q3D</th>\n",
       "      <th>...</th>\n",
       "      <th>METRO</th>\n",
       "      <th>INTERNET</th>\n",
       "      <th>HOUSING</th>\n",
       "      <th>PHONESERVICE</th>\n",
       "      <th>HHSIZE</th>\n",
       "      <th>HH01</th>\n",
       "      <th>HH25</th>\n",
       "      <th>HH612</th>\n",
       "      <th>HH1317</th>\n",
       "      <th>HH18OV</th>\n",
       "    </tr>\n",
       "  </thead>\n",
       "  <tbody>\n",
       "    <tr>\n",
       "      <th>0</th>\n",
       "      <td>1</td>\n",
       "      <td>4682</td>\n",
       "      <td>0.897008</td>\n",
       "      <td>Southwest</td>\n",
       "      <td>Behind us</td>\n",
       "      <td>Worse off</td>\n",
       "      <td>No, have not</td>\n",
       "      <td>No, have not</td>\n",
       "      <td>No, have not</td>\n",
       "      <td>No, have not</td>\n",
       "      <td>...</td>\n",
       "      <td>Metro Area</td>\n",
       "      <td>Internet Household</td>\n",
       "      <td>Owned or being bought by you or someone in you...</td>\n",
       "      <td>Landline telephone only</td>\n",
       "      <td>1</td>\n",
       "      <td>0</td>\n",
       "      <td>0</td>\n",
       "      <td>0</td>\n",
       "      <td>0</td>\n",
       "      <td>1</td>\n",
       "    </tr>\n",
       "    <tr>\n",
       "      <th>1</th>\n",
       "      <td>2</td>\n",
       "      <td>3904</td>\n",
       "      <td>0.191948</td>\n",
       "      <td>South</td>\n",
       "      <td>Ahead of us</td>\n",
       "      <td>Better off</td>\n",
       "      <td>Yes, have</td>\n",
       "      <td>Yes, have</td>\n",
       "      <td>No, have not</td>\n",
       "      <td>No, have not</td>\n",
       "      <td>...</td>\n",
       "      <td>Metro Area</td>\n",
       "      <td>Internet Household</td>\n",
       "      <td>Rented for cash</td>\n",
       "      <td>Cellphone only</td>\n",
       "      <td>3</td>\n",
       "      <td>1</td>\n",
       "      <td>0</td>\n",
       "      <td>0</td>\n",
       "      <td>0</td>\n",
       "      <td>2</td>\n",
       "    </tr>\n",
       "    <tr>\n",
       "      <th>2</th>\n",
       "      <td>3</td>\n",
       "      <td>3959</td>\n",
       "      <td>0.761054</td>\n",
       "      <td>South</td>\n",
       "      <td>Behind us</td>\n",
       "      <td>Worse off</td>\n",
       "      <td>Yes, have</td>\n",
       "      <td>No, have not</td>\n",
       "      <td>No, have not</td>\n",
       "      <td>No, have not</td>\n",
       "      <td>...</td>\n",
       "      <td>Metro Area</td>\n",
       "      <td>Non-internet household</td>\n",
       "      <td>Owned or being bought by you or someone in you...</td>\n",
       "      <td>Have cellphone, but mostly use landline</td>\n",
       "      <td>2</td>\n",
       "      <td>0</td>\n",
       "      <td>0</td>\n",
       "      <td>0</td>\n",
       "      <td>0</td>\n",
       "      <td>2</td>\n",
       "    </tr>\n",
       "    <tr>\n",
       "      <th>3</th>\n",
       "      <td>4</td>\n",
       "      <td>1295</td>\n",
       "      <td>0.439389</td>\n",
       "      <td>South</td>\n",
       "      <td>Ahead of us</td>\n",
       "      <td>Better off</td>\n",
       "      <td>No, have not</td>\n",
       "      <td>Yes, have</td>\n",
       "      <td>No, have not</td>\n",
       "      <td>Yes, have</td>\n",
       "      <td>...</td>\n",
       "      <td>Metro Area</td>\n",
       "      <td>Internet Household</td>\n",
       "      <td>Owned or being bought by you or someone in you...</td>\n",
       "      <td>Have cellphone, but mostly use landline</td>\n",
       "      <td>2</td>\n",
       "      <td>0</td>\n",
       "      <td>0</td>\n",
       "      <td>0</td>\n",
       "      <td>0</td>\n",
       "      <td>2</td>\n",
       "    </tr>\n",
       "    <tr>\n",
       "      <th>4</th>\n",
       "      <td>5</td>\n",
       "      <td>6991</td>\n",
       "      <td>1.047701</td>\n",
       "      <td>South</td>\n",
       "      <td>Ahead of us</td>\n",
       "      <td>Better off</td>\n",
       "      <td>Yes, have</td>\n",
       "      <td>Yes, have</td>\n",
       "      <td>Yes, have</td>\n",
       "      <td>Yes, have</td>\n",
       "      <td>...</td>\n",
       "      <td>Metro Area</td>\n",
       "      <td>Internet Household</td>\n",
       "      <td>Rented for cash</td>\n",
       "      <td>Cellphone only</td>\n",
       "      <td>4</td>\n",
       "      <td>0</td>\n",
       "      <td>0</td>\n",
       "      <td>1</td>\n",
       "      <td>0</td>\n",
       "      <td>3</td>\n",
       "    </tr>\n",
       "  </tbody>\n",
       "</table>\n",
       "<p>5 rows × 152 columns</p>\n",
       "</div>"
      ],
      "text/plain": [
       "   Unnamed: 0  CaseId    WEIGHT      SAMPLE           Q1          Q2  \\\n",
       "0           1    4682  0.897008  Southwest     Behind us   Worse off   \n",
       "1           2    3904  0.191948       South  Ahead of us  Better off   \n",
       "2           3    3959  0.761054       South    Behind us   Worse off   \n",
       "3           4    1295  0.439389       South  Ahead of us  Better off   \n",
       "4           5    6991  1.047701       South  Ahead of us  Better off   \n",
       "\n",
       "            Q3A           Q3B           Q3C           Q3D  ...         METRO  \\\n",
       "0  No, have not  No, have not  No, have not  No, have not  ...    Metro Area   \n",
       "1     Yes, have     Yes, have  No, have not  No, have not  ...    Metro Area   \n",
       "2     Yes, have  No, have not  No, have not  No, have not  ...    Metro Area   \n",
       "3  No, have not     Yes, have  No, have not     Yes, have  ...    Metro Area   \n",
       "4     Yes, have     Yes, have     Yes, have     Yes, have  ...    Metro Area   \n",
       "\n",
       "                 INTERNET                                            HOUSING  \\\n",
       "0      Internet Household  Owned or being bought by you or someone in you...   \n",
       "1      Internet Household                                    Rented for cash   \n",
       "2  Non-internet household  Owned or being bought by you or someone in you...   \n",
       "3      Internet Household  Owned or being bought by you or someone in you...   \n",
       "4      Internet Household                                    Rented for cash   \n",
       "\n",
       "                              PHONESERVICE HHSIZE HH01 HH25 HH612 HH1317  \\\n",
       "0                  Landline telephone only      1    0    0     0      0   \n",
       "1                           Cellphone only      3    1    0     0      0   \n",
       "2  Have cellphone, but mostly use landline      2    0    0     0      0   \n",
       "3  Have cellphone, but mostly use landline      2    0    0     0      0   \n",
       "4                           Cellphone only      4    0    0     1      0   \n",
       "\n",
       "  HH18OV  \n",
       "0      1  \n",
       "1      2  \n",
       "2      2  \n",
       "3      2  \n",
       "4      3  \n",
       "\n",
       "[5 rows x 152 columns]"
      ]
     },
     "execution_count": 5,
     "metadata": {},
     "output_type": "execute_result"
    }
   ],
   "source": [
    "# The survey dataset\n",
    "survey = pd.read_csv(\"../PRRI-2017-Kids-Wellbeing-Survey/PRRI-2017-Kids-Wellbeing-Survey.csv\")\n",
    "print(survey.shape)\n",
    "survey.head()"
   ]
  },
  {
   "cell_type": "markdown",
   "metadata": {},
   "source": [
    "For the analysis, we will be taking only 4 news networks which are common to both the options provided in the survey and news article data set that we have. The 4 news agencies are \n",
    "\n",
    "- Fox News\n",
    "- CNN \n",
    "- NPR\n",
    "- New York Times "
   ]
  },
  {
   "cell_type": "code",
   "execution_count": 82,
   "metadata": {},
   "outputs": [
    {
     "name": "stdout",
     "output_type": "stream",
     "text": [
      "News Articles available\n",
      "['Atlantic', 'Fox News', 'Talking Points Memo', 'Guardian', 'Reuters', 'Business Insider', 'CNN', 'Breitbart', 'Vox', 'Washington Post', 'Buzzfeed News', 'National Review', 'New York Post', 'New York Times', 'NPR']\n",
      "Survey options\n",
      "['Fox News', 'NPR', 'CNN', \"Don't know?/Refused\", 'Local television news/local newspapers', 'MSNBC', 'The major broadcast networks (ABC, NBC, CBS)', 'USA Today', 'The New York Times', 'The Wall Street Journal']\n"
     ]
    },
    {
     "data": {
      "text/plain": [
       "(1794, 152)"
      ]
     },
     "execution_count": 82,
     "metadata": {},
     "output_type": "execute_result"
    }
   ],
   "source": [
    "common_news = ['Fox News', 'CNN', 'NPR', 'New York Times']\n",
    "print(\"News Articles available\")\n",
    "print(list(set(article[\"publication\"])))\n",
    "selected_art = article[article[\"publication\"].isin(common_news)]\n",
    "selected_art.shape\n",
    "\n",
    "fox_art = selected_art[selected_art[\"publication\"] == 'Fox News']\n",
    "cnn_art = selected_art[selected_art[\"publication\"] == 'CNN']\n",
    "npr_art = selected_art[selected_art[\"publication\"] == 'NPR']\n",
    "nyt_art = selected_art[selected_art[\"publication\"] == 'New York Times']\n",
    "\n",
    "common_news_sur = ['Fox News', 'CNN', 'NPR', 'The New York Times']\n",
    "print(\"Survey options\")\n",
    "print(list(set(survey[\"Q23\"])))\n",
    "selected_survey = survey[survey[\"Q23\"].isin(common_news_sur)]\n",
    "selected_survey.shape"
   ]
  },
  {
   "cell_type": "code",
   "execution_count": 51,
   "metadata": {},
   "outputs": [],
   "source": [
    "def analyse_sentiment(dataframe):\n",
    "    t= 0\n",
    "    nk = 0\n",
    "    nm = 0\n",
    "    pk = 0\n",
    "    pm = 0\n",
    "    for index, item in dataframe.iterrows():\n",
    "        t_analysis = TextBlob(item[\"title\"] + item[\"content\"]).sentiment.polarity\n",
    "        t = t + t_analysis\n",
    "        if t_analysis > 0 :\n",
    "            pk = pk + 1\n",
    "            pm = pm + t_analysis\n",
    "        \n",
    "        elif t_analysis < 0 :\n",
    "            nk = nk + 1\n",
    "            nm = nm + t_analysis\n",
    "    \n",
    "    if(pk!= 0):\n",
    "        print(\"Positive  = \" + str(pm / pk) + \"  \")\n",
    "    if(nk!= 0):\n",
    "        print(\"Negetive  = \" + str(nm / nk) + \"  \")\n",
    "    if(pk!= 0 or nk!= 0):\n",
    "        print(\"total  = \" + str(t /(pk + nk)) + \"  \")\n",
    "    return(pk + nk) \n",
    "    "
   ]
  },
  {
   "cell_type": "markdown",
   "metadata": {},
   "source": [
    "## 1 - Voting Patterns\n",
    "\n",
    "We will be analysing and running the Sentiment analysis on the news articles containing the news on Donald Trump and Hillary Clinton and check the sentiment of the news agencies articles them. \n",
    "\n",
    "Note that the sentient is biased on the positive side so we will use sentiment comparision for both rather than the absolute sentiment scores.\n"
   ]
  },
  {
   "cell_type": "code",
   "execution_count": 36,
   "metadata": {
    "scrolled": true
   },
   "outputs": [
    {
     "name": "stdout",
     "output_type": "stream",
     "text": [
      "Fox\n",
      "Positive  = 0.11588111430623887  \n",
      "Negetive  = -0.03644874196916791  \n",
      "total  = 0.10270167000072081  \n",
      "Positive  = 0.10705484161520282  \n",
      "Negetive  = -0.030142738076002307  \n",
      "total  = 0.09762611594217471  \n",
      "CNN\n",
      "Positive  = 0.0935515679290175  \n",
      "Negetive  = -0.04618497872869567  \n",
      "total  = 0.078270344675581  \n",
      "Positive  = 0.09343842466576323  \n",
      "Negetive  = -0.03724936373147333  \n",
      "total  = 0.08138919594828749  \n",
      "NPR\n",
      "Positive  = 0.09822699432400782  \n",
      "Negetive  = -0.045050000024738926  \n",
      "total  = 0.0878321787280255  \n",
      "Positive  = 0.11383502305630028  \n",
      "Negetive  = -0.05452261809714072  \n",
      "total  = 0.10353977161885966  \n",
      "NYT\n",
      "Positive  = 0.08927368699091766  \n",
      "Negetive  = -0.026483396008473947  \n",
      "total  = 0.08535678065472513  \n",
      "Positive  = 0.09893440410138893  \n",
      "Negetive  = -0.03359150548392078  \n",
      "total  = 0.09175791080254544  \n"
     ]
    },
    {
     "data": {
      "text/plain": [
       "277"
      ]
     },
     "execution_count": 36,
     "metadata": {},
     "output_type": "execute_result"
    }
   ],
   "source": [
    "#Voting Patterns\n",
    "print(\"Fox\")\n",
    "trump_fox = fox_art[fox_art[\"title\"].str.contains(\"Trump\", case = False) ]\n",
    "hilary_fox = fox_art[fox_art[\"title\"].str.contains(\"Hillary\", case = False) | fox_art[\"title\"].str.contains(\"Clinton\", case = False)]\n",
    "\n",
    "analyse_sentiment(trump_fox)\n",
    "analyse_sentiment(hilary_fox)\n",
    "\n",
    "print(\"CNN\")\n",
    "trump_cnn = cnn_art[cnn_art[\"title\"].str.contains(\"Trump\", case = False)]\n",
    "hilary_cnn = cnn_art[cnn_art[\"title\"].str.contains(\"Hillary\", case = False) | cnn_art[\"title\"].str.contains(\"Clinton\", case = False)]\n",
    "\n",
    "analyse_sentiment(trump_cnn)\n",
    "analyse_sentiment(hilary_cnn)\n",
    "\n",
    "print(\"NPR\")\n",
    "trump_npr = npr_art[npr_art[\"title\"].str.contains(\"Trump\", case = False)]\n",
    "hilary_npr = npr_art[npr_art[\"title\"].str.contains(\"Hillary\", case = False) | npr_art[\"title\"].str.contains(\"Clinton\", case = False)]\n",
    "\n",
    "analyse_sentiment(trump_npr)\n",
    "analyse_sentiment(hilary_npr)\n",
    "\n",
    "print(\"NYT\")\n",
    "trump_nyt = nyt_art[nyt_art[\"title\"].str.contains(\"Trump\", case = False)]\n",
    "hilary_nyt = nyt_art[nyt_art[\"title\"].str.contains(\"Hillary\", case = False) | nyt_art[\"title\"].str.contains(\"Clinton\", case = False)]\n",
    "\n",
    "analyse_sentiment(trump_nyt)\n",
    "analyse_sentiment(hilary_nyt)"
   ]
  },
  {
   "cell_type": "code",
   "execution_count": 16,
   "metadata": {},
   "outputs": [
    {
     "name": "stdout",
     "output_type": "stream",
     "text": [
      "Fox News\n",
      "Trump = 0.9160714285714285\n",
      "Clinton = 0.08392857142857142\n",
      "CNN\n",
      "Trump = 0.15172413793103448\n",
      "Clinton = 0.8482758620689655\n",
      "NPR\n",
      "Trump = 0.12771739130434784\n",
      "Clinton = 0.8722826086956522\n",
      "The New York Times\n",
      "Trump = 0.10294117647058823\n",
      "Clinton = 0.8970588235294118\n"
     ]
    }
   ],
   "source": [
    "selected_survey_vote = selected_survey[~selected_survey[\"Q24\"].isnull()][[\"CaseId\",\"Q23\", \"Q24\"]]\n",
    "for channel in common_news_sur:\n",
    "    k = selected_survey_vote[selected_survey_vote[\"Q23\"] == channel][[\"CaseId\", \"Q24\"]].groupby([\"Q24\"]).agg('count')\n",
    "    trump_score = k.CaseId[\"Donald Trump, the Republican\"]\n",
    "    hilary_score = k.CaseId[\"Hillary Clinton, the Democrat\"]\n",
    "    print(channel)\n",
    "    print(\"Trump = \" + str(trump_score/(trump_score + hilary_score)))\n",
    "    print(\"Clinton = \" + str(hilary_score/(trump_score + hilary_score)))"
   ]
  },
  {
   "cell_type": "markdown",
   "metadata": {},
   "source": [
    "## 2- Illegal Immigration\n",
    "\n",
    "The news corpus dataset that we have has very less news articles for NPR and New york Times with news about Illegal immigration. So the anaysis had to be done by taking only CNN and Fox News into consideration  "
   ]
  },
  {
   "cell_type": "code",
   "execution_count": 60,
   "metadata": {},
   "outputs": [
    {
     "name": "stdout",
     "output_type": "stream",
     "text": [
      "Positive  = 0.046535345976162094  \n",
      "Negetive  = -0.05414902209062642  \n",
      "total  = -0.014993990064653117  \n",
      "Positive  = 0.12489024836922441  \n",
      "Negetive  = -0.018732997421522013  \n",
      "total  = 0.07701583310564226  \n"
     ]
    },
    {
     "data": {
      "text/plain": [
       "3"
      ]
     },
     "execution_count": 60,
     "metadata": {},
     "output_type": "execute_result"
    }
   ],
   "source": [
    "analyse_sentiment(fox_art[fox_art[\"title\"].str.contains(\"illegal immigrant\", case = False) | fox_art[\"title\"].str.contains(\"illegal immigration\", case = False)])\n",
    "analyse_sentiment(cnn_art[cnn_art[\"title\"].str.contains(\"illegal immigrant\", case = False) | cnn_art[\"title\"].str.contains(\"illegal immigration\", case = False)])\n"
   ]
  },
  {
   "cell_type": "code",
   "execution_count": 65,
   "metadata": {},
   "outputs": [
    {
     "data": {
      "text/html": [
       "<div>\n",
       "<style scoped>\n",
       "    .dataframe tbody tr th:only-of-type {\n",
       "        vertical-align: middle;\n",
       "    }\n",
       "\n",
       "    .dataframe tbody tr th {\n",
       "        vertical-align: top;\n",
       "    }\n",
       "\n",
       "    .dataframe thead th {\n",
       "        text-align: right;\n",
       "    }\n",
       "</style>\n",
       "<table border=\"1\" class=\"dataframe\">\n",
       "  <thead>\n",
       "    <tr style=\"text-align: right;\">\n",
       "      <th></th>\n",
       "      <th>CaseId</th>\n",
       "    </tr>\n",
       "    <tr>\n",
       "      <th>Q7C</th>\n",
       "      <th></th>\n",
       "    </tr>\n",
       "  </thead>\n",
       "  <tbody>\n",
       "    <tr>\n",
       "      <th>Don't know?/Refused</th>\n",
       "      <td>5</td>\n",
       "    </tr>\n",
       "    <tr>\n",
       "      <th>Major problem</th>\n",
       "      <td>421</td>\n",
       "    </tr>\n",
       "    <tr>\n",
       "      <th>Minor problem</th>\n",
       "      <td>210</td>\n",
       "    </tr>\n",
       "    <tr>\n",
       "      <th>Not a problem</th>\n",
       "      <td>79</td>\n",
       "    </tr>\n",
       "  </tbody>\n",
       "</table>\n",
       "</div>"
      ],
      "text/plain": [
       "                     CaseId\n",
       "Q7C                        \n",
       "Don't know?/Refused       5\n",
       "Major problem           421\n",
       "Minor problem           210\n",
       "Not a problem            79"
      ]
     },
     "execution_count": 65,
     "metadata": {},
     "output_type": "execute_result"
    }
   ],
   "source": [
    "selected_survey_immi = selected_survey[~selected_survey[\"Q7C\"].isnull()][[\"CaseId\",\"Q23\", \"Q7C\"]]\n",
    "selected_survey_immi.shape\n",
    "selected_survey_immi[selected_survey_immi[\"Q23\"] == \"Fox News\"][[\"CaseId\", \"Q7C\"]].groupby([\"Q7C\"]).agg('count')"
   ]
  },
  {
   "cell_type": "code",
   "execution_count": 66,
   "metadata": {},
   "outputs": [
    {
     "data": {
      "text/html": [
       "<div>\n",
       "<style scoped>\n",
       "    .dataframe tbody tr th:only-of-type {\n",
       "        vertical-align: middle;\n",
       "    }\n",
       "\n",
       "    .dataframe tbody tr th {\n",
       "        vertical-align: top;\n",
       "    }\n",
       "\n",
       "    .dataframe thead th {\n",
       "        text-align: right;\n",
       "    }\n",
       "</style>\n",
       "<table border=\"1\" class=\"dataframe\">\n",
       "  <thead>\n",
       "    <tr style=\"text-align: right;\">\n",
       "      <th></th>\n",
       "      <th>CaseId</th>\n",
       "    </tr>\n",
       "    <tr>\n",
       "      <th>Q7C</th>\n",
       "      <th></th>\n",
       "    </tr>\n",
       "  </thead>\n",
       "  <tbody>\n",
       "    <tr>\n",
       "      <th>Don't know?/Refused</th>\n",
       "      <td>2</td>\n",
       "    </tr>\n",
       "    <tr>\n",
       "      <th>Major problem</th>\n",
       "      <td>148</td>\n",
       "    </tr>\n",
       "    <tr>\n",
       "      <th>Minor problem</th>\n",
       "      <td>178</td>\n",
       "    </tr>\n",
       "    <tr>\n",
       "      <th>Not a problem</th>\n",
       "      <td>88</td>\n",
       "    </tr>\n",
       "  </tbody>\n",
       "</table>\n",
       "</div>"
      ],
      "text/plain": [
       "                     CaseId\n",
       "Q7C                        \n",
       "Don't know?/Refused       2\n",
       "Major problem           148\n",
       "Minor problem           178\n",
       "Not a problem            88"
      ]
     },
     "execution_count": 66,
     "metadata": {},
     "output_type": "execute_result"
    }
   ],
   "source": [
    "selected_survey_immi = selected_survey[~selected_survey[\"Q7C\"].isnull()][[\"CaseId\",\"Q23\", \"Q7C\"]]\n",
    "selected_survey_immi.shape\n",
    "selected_survey_immi[selected_survey_immi[\"Q23\"] == \"CNN\"][[\"CaseId\", \"Q7C\"]].groupby([\"Q7C\"]).agg('count')"
   ]
  },
  {
   "cell_type": "code",
   "execution_count": 117,
   "metadata": {},
   "outputs": [
    {
     "name": "stdout",
     "output_type": "stream",
     "text": [
      "Positive  = 0.10240710794472911  \n",
      "Negetive  = -0.04718081125961028  \n",
      "total  = 0.074705641425407  \n",
      "Positive  = 0.10284318666988382  \n",
      "Negetive  = -0.01882057320055057  \n",
      "total  = 0.09235493150863948  \n",
      "Positive  = 0.10248405244500486  \n",
      "total  = 0.10248405244500486  \n",
      "Positive  = 0.09862146672427456  \n",
      "Negetive  = -0.05039500797894654  \n",
      "total  = 0.08524819335347265  \n"
     ]
    },
    {
     "data": {
      "text/plain": [
       "78"
      ]
     },
     "execution_count": 117,
     "metadata": {},
     "output_type": "execute_result"
    }
   ],
   "source": [
    "analyse_sentiment(fox_art[fox_art[\"title\"].str.contains(\"obamacare\", case = False)  | fox_art[\"title\"].str.contains(\"Affordable Care\", case = False)])\n",
    "analyse_sentiment(cnn_art[cnn_art[\"title\"].str.contains(\"obamacare\", case = False)  | cnn_art[\"title\"].str.contains(\"Affordable Care\", case = False)])\n",
    "analyse_sentiment(nyt_art[nyt_art[\"title\"].str.contains(\"obamacare\", case = False)  | nyt_art[\"title\"].str.contains(\"Affordable Care\", case = False)])\n",
    "analyse_sentiment(npr_art[npr_art[\"title\"].str.contains(\"obamacare\", case = False)  | npr_art[\"title\"].str.contains(\"Affordable Care\", case = False)])\n"
   ]
  },
  {
   "cell_type": "code",
   "execution_count": 91,
   "metadata": {},
   "outputs": [
    {
     "data": {
      "text/html": [
       "<div>\n",
       "<style scoped>\n",
       "    .dataframe tbody tr th:only-of-type {\n",
       "        vertical-align: middle;\n",
       "    }\n",
       "\n",
       "    .dataframe tbody tr th {\n",
       "        vertical-align: top;\n",
       "    }\n",
       "\n",
       "    .dataframe thead th {\n",
       "        text-align: right;\n",
       "    }\n",
       "</style>\n",
       "<table border=\"1\" class=\"dataframe\">\n",
       "  <thead>\n",
       "    <tr style=\"text-align: right;\">\n",
       "      <th></th>\n",
       "      <th>CaseId</th>\n",
       "    </tr>\n",
       "    <tr>\n",
       "      <th>Q8C</th>\n",
       "      <th></th>\n",
       "    </tr>\n",
       "  </thead>\n",
       "  <tbody>\n",
       "    <tr>\n",
       "      <th>Completely agree</th>\n",
       "      <td>159</td>\n",
       "    </tr>\n",
       "    <tr>\n",
       "      <th>Completely disagree</th>\n",
       "      <td>54</td>\n",
       "    </tr>\n",
       "    <tr>\n",
       "      <th>Don't know?/Refused</th>\n",
       "      <td>5</td>\n",
       "    </tr>\n",
       "    <tr>\n",
       "      <th>Mostly agree</th>\n",
       "      <td>342</td>\n",
       "    </tr>\n",
       "    <tr>\n",
       "      <th>Mostly disagree</th>\n",
       "      <td>155</td>\n",
       "    </tr>\n",
       "  </tbody>\n",
       "</table>\n",
       "</div>"
      ],
      "text/plain": [
       "                     CaseId\n",
       "Q8C                        \n",
       "Completely agree        159\n",
       "Completely disagree      54\n",
       "Don't know?/Refused       5\n",
       "Mostly agree            342\n",
       "Mostly disagree         155"
      ]
     },
     "execution_count": 91,
     "metadata": {},
     "output_type": "execute_result"
    }
   ],
   "source": [
    "selected_survey_health = selected_survey[~selected_survey[\"Q8C\"].isnull()][[\"CaseId\",\"Q23\", \"Q8C\"]]\n",
    "selected_survey_health[selected_survey_health[\"Q23\"] == \"Fox News\"][[\"CaseId\", \"Q8C\"]].groupby([\"Q8C\"]).agg('count')\n",
    "selected_survey_health = selected_survey[~selected_survey[\"Q8C\"].isnull()][[\"CaseId\",\"Q23\", \"Q8C\"]]\n",
    "selected_survey_health[selected_survey_health[\"Q23\"] == \"Fox News\"][[\"CaseId\", \"Q8C\"]].groupby([\"Q8C\"]).agg('count')\n",
    "selected_survey_health = selected_survey[~selected_survey[\"Q8C\"].isnull()][[\"CaseId\",\"Q23\", \"Q8C\"]]\n",
    "selected_survey_health[selected_survey_health[\"Q23\"] == \"Fox News\"][[\"CaseId\", \"Q8C\"]].groupby([\"Q8C\"]).agg('count')\n"
   ]
  },
  {
   "cell_type": "code",
   "execution_count": 103,
   "metadata": {
    "scrolled": false
   },
   "outputs": [
    {
     "name": "stdout",
     "output_type": "stream",
     "text": [
      "Positive  = 0.10258332055770698  \n",
      "Negetive  = -0.05220591333251923  \n",
      "total  = 0.0740150771599946  \n",
      "Positive  = 0.10044889655882205  \n",
      "Negetive  = -0.04651104718679257  \n",
      "total  = 0.07740343265624716  \n",
      "Positive  = 0.1056654389302441  \n",
      "Negetive  = -0.03988751554096138  \n",
      "total  = 0.09409164121551256  \n",
      "Positive  = 0.09060268510038491  \n",
      "Negetive  = -0.031677040353807306  \n",
      "total  = 0.08182700315057752  \n"
     ]
    },
    {
     "data": {
      "text/plain": [
       "0.08182700315057752"
      ]
     },
     "execution_count": 103,
     "metadata": {},
     "output_type": "execute_result"
    }
   ],
   "source": [
    "# Better Off Worse off\n",
    "analyse_sentiment(fox_art)\n",
    "analyse_sentiment(cnn_art)\n",
    "analyse_sentiment(npr_art)\n",
    "analyse_sentiment(nyt_art)"
   ]
  },
  {
   "cell_type": "code",
   "execution_count": 112,
   "metadata": {
    "scrolled": false
   },
   "outputs": [
    {
     "name": "stdout",
     "output_type": "stream",
     "text": [
      "                     CaseId\n",
      "Q2                         \n",
      "Better off              371\n",
      "Don't know?/Refused       7\n",
      "Worse off               337\n",
      "                     CaseId\n",
      "Q2                         \n",
      "Better off              188\n",
      "Don't know?/Refused       6\n",
      "Worse off               222\n",
      "                     CaseId\n",
      "Q2                         \n",
      "Better off              225\n",
      "Don't know?/Refused       1\n",
      "Worse off               255\n",
      "                     CaseId\n",
      "Q2                         \n",
      "Better off               85\n",
      "Don't know?/Refused       3\n",
      "Worse off                94\n"
     ]
    }
   ],
   "source": [
    "selected_survey = survey[survey[\"Q23\"].isin(common_news_sur) & ~survey[\"Q2\"].isnull()][[\"CaseId\",\"Q23\", \"Q2\"]]\n",
    "selected_survey.shape\n",
    "\n",
    "print(selected_survey[selected_survey[\"Q23\"] == \"Fox News\"][[\"CaseId\", \"Q2\"]].groupby([\"Q2\"]).agg('count'))\n",
    "print(selected_survey[selected_survey[\"Q23\"] == \"CNN\"][[\"CaseId\", \"Q2\"]].groupby([\"Q2\"]).agg('count'))\n",
    "print(selected_survey[selected_survey[\"Q23\"] == \"NPR\"][[\"CaseId\", \"Q2\"]].groupby([\"Q2\"]).agg('count'))\n",
    "print(selected_survey[selected_survey[\"Q23\"] == \"The New York Times\"][[\"CaseId\", \"Q2\"]].groupby([\"Q2\"]).agg('count'))\n"
   ]
  },
  {
   "cell_type": "markdown",
   "metadata": {},
   "source": [
    "### Acknowledgements\n",
    "\n",
    "- The \"All-the-news\" dataset was taken from the dataset published by Andrew Thompson on Kaggle https://www.kaggle.com/snapcrack/all-the-news/home\n",
    "- The \"PRRI-2017-Kids-Wellbeing-Survey\" Dataset was taken from PRRI's data vault https://www.prri.org/data-vault/ "
   ]
  }
 ],
 "metadata": {
  "kernelspec": {
   "display_name": "'coms007'",
   "language": "python",
   "name": "coms007"
  },
  "language_info": {
   "codemirror_mode": {
    "name": "ipython",
    "version": 3
   },
   "file_extension": ".py",
   "mimetype": "text/x-python",
   "name": "python",
   "nbconvert_exporter": "python",
   "pygments_lexer": "ipython3",
   "version": "3.6.5"
  }
 },
 "nbformat": 4,
 "nbformat_minor": 2
}
